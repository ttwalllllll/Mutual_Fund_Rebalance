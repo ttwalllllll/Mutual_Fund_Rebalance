{
 "cells": [
  {
   "cell_type": "code",
   "execution_count": 1,
   "id": "6c497445-740a-4b06-82ed-c364759a4e27",
   "metadata": {},
   "outputs": [],
   "source": [
    "from reportlab.lib.pagesizes import letter, landscape\n",
    "from reportlab.pdfgen import canvas\n"
   ]
  },
  {
   "cell_type": "code",
   "execution_count": 28,
   "id": "13024849-edac-4beb-854b-4a042b39273c",
   "metadata": {},
   "outputs": [],
   "source": [
    "def add_image(image_path_1, image_path_2, image_path_3):\n",
    "    can = canvas.Canvas(\"Graphs.pdf\", pagesize=letter)\n",
    "    can.drawString(20, 800, \"First Page\")\n",
    "    can.drawImage(image_path_1, 50, 400, width=550, height=300)\n",
    "    can.drawImage(image_path_2, 50, 100, width=550, height=300)\n",
    "    \n",
    "    can.showPage()\n",
    "    can.drawString(20, 800, \"Second Page\")\n",
    "    can.drawImage(image_path_3, 50, 400, width=550, height=300)\n",
    "\n",
    "    \n",
    "    can.save()\n"
   ]
  },
  {
   "cell_type": "code",
   "execution_count": 27,
   "id": "1d108a9c-4472-4101-ab5e-824b1b6fda51",
   "metadata": {},
   "outputs": [],
   "source": [
    "if __name__ == '__main__':\n",
    "    image_path_1 = 'plot_FINSX.png'\n",
    "    image_path_2 = 'plot_MEIIX.png'\n",
    "    image_path_3 = 'plot_PRILX.png'\n",
    "    \n",
    "    add_image(image_path_1, image_path_2, image_path_3)\n",
    "    "
   ]
  },
  {
   "cell_type": "code",
   "execution_count": 32,
   "id": "1f4b80bb-7134-444d-bf01-8f36b852b18c",
   "metadata": {},
   "outputs": [],
   "source": [
    "def add_dataframe(dataframe_path_1, dataframe_path_2):\n",
    "    can = canvas.Canvas(\"Dataframe.pdf\", pagesize=landscape(letter))\n",
    "    can.drawString(20, 800, \"Large Cap Page\")\n",
    "    can.drawImage(dataframe_path_1, 15, 400, width=750, height=200)\n",
    "    can.drawImage(dataframe_path_2, 15, 200, width=750, height=200)\n",
    "    can.showPage()\n",
    "    \n",
    "    can.drawString(20, 800, \"Mid Cap Page\")\n",
    "    can.showPage()\n",
    "    \n",
    "    can.drawString(20, 800, \"Small Cap Page\")\n",
    "    can.showPage()\n",
    "    \n",
    "    can.drawString(20, 800, \"International Developed Page\")\n",
    "    can.showPage()\n",
    "    \n",
    "    can.drawString(20, 800, \"International Emerging Page\")\n",
    "    can.showPage()\n",
    "    \n",
    "    can.drawString(20, 800, \"Real Estate Page\")\n",
    "    can.showPage()\n",
    "    \n",
    "    can.drawString(20, 800, \"Commodities Page\")\n",
    "    can.showPage()\n",
    "    \n",
    "    can.drawString(20, 800, \"Fixed Income Page\")\n",
    "    can.showPage()\n",
    "    \n",
    "    can.save()"
   ]
  },
  {
   "cell_type": "code",
   "execution_count": 31,
   "id": "0b61d82a-b916-4bf1-97ed-9d57d7d57783",
   "metadata": {},
   "outputs": [],
   "source": [
    "if __name__ == '__main__':\n",
    "    dataframe_path_1 = 'Dataframe_1.png'\n",
    "    dataframe_path_2 = 'Dataframe_2.png'\n",
    "    add_dataframe(dataframe_path_1, dataframe_path_2)"
   ]
  }
 ],
 "metadata": {
  "kernelspec": {
   "display_name": "Python 3 (ipykernel)",
   "language": "python",
   "name": "python3"
  },
  "language_info": {
   "codemirror_mode": {
    "name": "ipython",
    "version": 3
   },
   "file_extension": ".py",
   "mimetype": "text/x-python",
   "name": "python",
   "nbconvert_exporter": "python",
   "pygments_lexer": "ipython3",
   "version": "3.8.13"
  }
 },
 "nbformat": 4,
 "nbformat_minor": 5
}
